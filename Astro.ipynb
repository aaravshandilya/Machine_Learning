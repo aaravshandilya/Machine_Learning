{
 "cells": [
  {
   "cell_type": "code",
   "id": "initial_id",
   "metadata": {
    "collapsed": true,
    "ExecuteTime": {
     "end_time": "2025-08-23T23:43:42.855050Z",
     "start_time": "2025-08-23T23:43:42.846742Z"
    }
   },
   "source": "import pandas as pd",
   "outputs": [],
   "execution_count": 10
  },
  {
   "metadata": {
    "ExecuteTime": {
     "end_time": "2025-08-23T23:47:40.277687Z",
     "start_time": "2025-08-23T23:47:40.127371Z"
    }
   },
   "cell_type": "code",
   "source": "data = pd.read_csv(r'C:\\users\\shand\\Downloads\\archive\\star_classification.csv')",
   "id": "d8a2f45fcf6451fc",
   "outputs": [],
   "execution_count": 17
  },
  {
   "metadata": {
    "ExecuteTime": {
     "end_time": "2025-08-23T23:49:23.096802Z",
     "start_time": "2025-08-23T23:49:23.087349Z"
    }
   },
   "cell_type": "code",
   "source": "print(data.columns)",
   "id": "914e89da9cae7d3d",
   "outputs": [
    {
     "name": "stdout",
     "output_type": "stream",
     "text": [
      "Index(['obj_ID', 'alpha', 'delta', 'u', 'g', 'r', 'i', 'z', 'run_ID',\n",
      "       'rerun_ID', 'cam_col', 'field_ID', 'spec_obj_ID', 'class', 'redshift',\n",
      "       'plate', 'MJD', 'fiber_ID'],\n",
      "      dtype='object')\n"
     ]
    }
   ],
   "execution_count": 18
  },
  {
   "metadata": {
    "ExecuteTime": {
     "end_time": "2025-08-23T23:49:41.759069Z",
     "start_time": "2025-08-23T23:49:41.742790Z"
    }
   },
   "cell_type": "code",
   "source": "print(data.isnull().sum())",
   "id": "8677780366a45d85",
   "outputs": [
    {
     "name": "stdout",
     "output_type": "stream",
     "text": [
      "obj_ID         0\n",
      "alpha          0\n",
      "delta          0\n",
      "u              0\n",
      "g              0\n",
      "r              0\n",
      "i              0\n",
      "z              0\n",
      "run_ID         0\n",
      "rerun_ID       0\n",
      "cam_col        0\n",
      "field_ID       0\n",
      "spec_obj_ID    0\n",
      "class          0\n",
      "redshift       0\n",
      "plate          0\n",
      "MJD            0\n",
      "fiber_ID       0\n",
      "dtype: int64\n"
     ]
    }
   ],
   "execution_count": 19
  },
  {
   "metadata": {
    "ExecuteTime": {
     "end_time": "2025-08-23T23:50:21.085921Z",
     "start_time": "2025-08-23T23:50:21.081208Z"
    }
   },
   "cell_type": "code",
   "source": "features = ['u', 'g', 'r', 'i', 'z']",
   "id": "f836a8cea64635e8",
   "outputs": [],
   "execution_count": 21
  },
  {
   "metadata": {
    "ExecuteTime": {
     "end_time": "2025-08-23T23:50:40.970538Z",
     "start_time": "2025-08-23T23:50:40.959308Z"
    }
   },
   "cell_type": "code",
   "source": "target = 'temperature'",
   "id": "14a592c6f970a7e9",
   "outputs": [],
   "execution_count": 22
  },
  {
   "metadata": {},
   "cell_type": "code",
   "outputs": [],
   "execution_count": null,
   "source": "",
   "id": "981a165a555d24b7"
  }
 ],
 "metadata": {
  "kernelspec": {
   "display_name": "Python 3",
   "language": "python",
   "name": "python3"
  },
  "language_info": {
   "codemirror_mode": {
    "name": "ipython",
    "version": 2
   },
   "file_extension": ".py",
   "mimetype": "text/x-python",
   "name": "python",
   "nbconvert_exporter": "python",
   "pygments_lexer": "ipython2",
   "version": "2.7.6"
  }
 },
 "nbformat": 4,
 "nbformat_minor": 5
}
